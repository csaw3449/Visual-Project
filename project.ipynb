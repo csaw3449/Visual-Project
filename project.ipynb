{
 "cells": [
  {
   "cell_type": "markdown",
   "metadata": {},
   "source": [
    "# Initialize functions"
   ]
  },
  {
   "cell_type": "code",
   "execution_count": 1,
   "metadata": {},
   "outputs": [],
   "source": [
    "import os\n",
    "import pandas as pd\n",
    "import torchvision\n",
    "import torch\n",
    "from torchvision import transforms\n",
    "\n",
    "import torchvision.transforms as transforms\n",
    "from torch.utils.data import DataLoader, random_split\n",
    "from torch.utils.data import Dataset\n",
    "from torchvision.io import read_image\n",
    "import numpy as np\n",
    "import matplotlib.pyplot as plt\n",
    "import numpy as np\n",
    "from torchvision.utils import make_grid\n",
    "from PIL import Image\n",
    "\n",
    "\n",
    "\n",
    "class CustomImageDataset(Dataset):\n",
    "    def __init__(self, root_dir,csv_file, transform=None):\n",
    "        self.annotations = pd.read_csv(csv_file)\n",
    "        self.root_dir = root_dir\n",
    "        self.transform = transform\n",
    "        self.class_to_idx = {cls: idx for idx, cls in enumerate(\n",
    "            ['checazzo', 'peace', 'thumbup', 'ok', 'flat', 'nohandgesture'])}\n",
    "\n",
    "    def __len__(self):\n",
    "        return len(self.annotations)\n",
    "\n",
    "    def __getitem__(self, idx):\n",
    "        img_path = os.path.join(self.root_dir, self.annotations.iloc[idx, 0])\n",
    "        image = Image.open(img_path)\n",
    "        image = image.convert(\"L\")\n",
    "\n",
    "\n",
    "        label = self.annotations.iloc[idx, 1]\n",
    "        label = self.class_to_idx[label]  # Convert string label to integer\n",
    "\n",
    "        if self.transform:\n",
    "            image = self.transform(image)\n",
    "        \n",
    "        return image, label"
   ]
  },
  {
   "cell_type": "code",
   "execution_count": 2,
   "metadata": {},
   "outputs": [
    {
     "name": "stdout",
     "output_type": "stream",
     "text": [
      "Current directory: c:\\Visual Computing\\Project\n",
      "6\n"
     ]
    }
   ],
   "source": [
    "seed = 42\n",
    "generator = torch.Generator().manual_seed(seed)\n",
    "\n",
    "current_dir = os.getcwd()\n",
    "print(f\"Current directory: {current_dir}\")\n",
    "\n",
    "\n",
    "classes = ('checazzo', 'peace', 'thumbup', 'ok', 'flat', 'nohandgesture')\n",
    "\n",
    "# Set up transformations\n",
    "transform = transforms.Compose([\n",
    "    transforms.ToTensor(),  # Converts to tensor of shape [1, H, W]\n",
    "    transforms.Resize((32, 32)), # Resize the image to 32x32\n",
    "    transforms.Normalize(mean=(0.5,), std=(0.5,))  # Normalize the pixel values]\n",
    "    ])\n",
    "\n",
    "# Create dataset\n",
    "dataset = CustomImageDataset(csv_file='images.csv', root_dir=os.getcwd(), transform=transform)\n",
    "print(dataset.__len__())\n",
    "\n",
    "# Split dataset into 80% train and 20% test\n",
    "train_size = int(0.8 * len(dataset))\n",
    "test_size = len(dataset) - train_size\n",
    "train_set, test_set = random_split(dataset, [train_size, test_size],generator=generator)\n",
    "\n",
    "# Create DataLoaders\n",
    "train_loader = DataLoader(train_set, batch_size=1, shuffle=True)\n",
    "test_loader = DataLoader(test_set, batch_size=1, shuffle=False)\n"
   ]
  },
  {
   "cell_type": "code",
   "execution_count": 3,
   "metadata": {},
   "outputs": [
    {
     "data": {
      "image/png": "[encoded data removed]",
      "text/plain": [
       "<Figure size 640x480 with 1 Axes>"
      ]
     },
     "metadata": {},
     "output_type": "display_data"
    }
   ],
   "source": [
    "# Function to show images\n",
    "def imshow(img):\n",
    "    img = img / 2 + 0.5     # unnormalize\n",
    "    npimg = img.numpy()\n",
    "    plt.imshow(np.transpose(npimg, (1, 2, 0)), cmap='gray')  # Specify gray colormap for grayscale\n",
    "    plt.show()\n",
    "\n",
    "# Get some random training images\n",
    "dataset_iter = iter(train_loader)\n",
    "images, labels = next(dataset_iter)\n",
    "\n",
    "# Show images\n",
    "imshow(make_grid(images))  # Display grid of images"
   ]
  },
  {
   "cell_type": "markdown",
   "metadata": {},
   "source": [
    "## CNN"
   ]
  },
  {
   "cell_type": "code",
   "execution_count": 4,
   "metadata": {},
   "outputs": [],
   "source": [
    "import torch\n",
    "import torch.nn as nn\n",
    "import torch.nn.functional as F\n",
    "\n",
    "##CNN Architecture\n",
    "\n",
    "#Generally the CNN output size can be calculated as follows (for an image with same height and width dimensions):\n",
    "#output_size = (input_size - kernel_size + 2*padding) / stride + 1\n",
    "\n",
    "#Since we transform each image to grayscale we have 1 input channel.\n",
    "# Also we use padding, because the most relevant informations lie in the center of the images.csv\n",
    "\n",
    "#input size of each image: 32x32\n",
    "\n",
    "class Net(nn.Module):\n",
    "    def __init__(self):\n",
    "        super(Net, self).__init__()\n",
    "        # Convolutional layers\n",
    "        self.conv1 = nn.Conv2d(in_channels=1, out_channels=8, kernel_size=3, padding=1) \n",
    "        self.conv2 = nn.Conv2d(in_channels=8, out_channels=16, kernel_size=3, padding=1) \n",
    "        self.conv3 = nn.Conv2d(in_channels=16, out_channels=32, kernel_size=3, padding=1) \n",
    "        self.conv4 = nn.Conv2d(in_channels=32, out_channels=32, kernel_size=3, padding=1)\n",
    "        self.conv5 = nn.Conv2d(in_channels=32, out_channels=64, kernel_size=3, padding=1)\n",
    "        self.conv6 = nn.Conv2d(in_channels=64, out_channels=64, kernel_size=3, padding=1)\n",
    "\n",
    "        # Pooling layer for downsampling\n",
    "        self.pool = nn.MaxPool2d(kernel_size=2, stride=2)\n",
    "\n",
    "        # Dropout layers for regularization\n",
    "        self.dropout = nn.Dropout(0.5)\n",
    "\n",
    "\n",
    "        # Fully connected layers\n",
    "        self.fc1 = nn.Linear(64*4*4, 500)\n",
    "        self.fc2 = nn.Linear(500, 256)\n",
    "        self.fc3 = nn.Linear(256, 128)\n",
    "        self.fc4 = nn.Linear(128, 64)\n",
    "        self.fc5 = nn.Linear(64, 6) #6 output classes 5 gestures and 1 for no gesture\n",
    "\n",
    "    def forward(self, x):\n",
    "        x = F.relu(self.conv1(x)) # output size = 32x32\n",
    "        x = self.pool(F.relu(self.conv2(x))) # output size = 16x16\n",
    "\n",
    "        x = F.relu(self.conv3(x)) #output size = 16x16\n",
    "        x = self.pool(F.relu(self.conv4(x))) # output size = 8x8\n",
    "\n",
    "        x = F.relu(self.conv5(x)) #output size = 8x8\n",
    "        x = self.pool(F.relu(self.conv6(x))) # output size = 4x4\n",
    "\n",
    "        x = x.view(-1, 64 * 4 * 4)\n",
    "        x = self.dropout(F.relu(self.fc1(x)))\n",
    "        x = self.dropout(F.relu(self.fc2(x)))\n",
    "        x = self.dropout(F.relu(self.fc3(x)))\n",
    "        x = self.dropout(F.relu(self.fc4(x)))\n",
    "        x = self.fc5(x) #no activation function because we use CrossEntropyLoss\n",
    "\n",
    "        return x"
   ]
  },
  {
   "cell_type": "code",
   "execution_count": 5,
   "metadata": {},
   "outputs": [
    {
     "name": "stdout",
     "output_type": "stream",
     "text": [
      "cpu\n",
      "Net(\n",
      "  (conv1): Conv2d(1, 8, kernel_size=(3, 3), stride=(1, 1), padding=(1, 1))\n",
      "  (conv2): Conv2d(8, 16, kernel_size=(3, 3), stride=(1, 1), padding=(1, 1))\n",
      "  (conv3): Conv2d(16, 32, kernel_size=(3, 3), stride=(1, 1), padding=(1, 1))\n",
      "  (conv4): Conv2d(32, 32, kernel_size=(3, 3), stride=(1, 1), padding=(1, 1))\n",
      "  (conv5): Conv2d(32, 64, kernel_size=(3, 3), stride=(1, 1), padding=(1, 1))\n",
      "  (conv6): Conv2d(64, 64, kernel_size=(3, 3), stride=(1, 1), padding=(1, 1))\n",
      "  (pool): MaxPool2d(kernel_size=2, stride=2, padding=0, dilation=1, ceil_mode=False)\n",
      "  (dropout): Dropout(p=0.5, inplace=False)\n",
      "  (fc1): Linear(in_features=1024, out_features=500, bias=True)\n",
      "  (fc2): Linear(in_features=500, out_features=256, bias=True)\n",
      "  (fc3): Linear(in_features=256, out_features=128, bias=True)\n",
      "  (fc4): Linear(in_features=128, out_features=64, bias=True)\n",
      "  (fc5): Linear(in_features=64, out_features=6, bias=True)\n",
      ")\n"
     ]
    }
   ],
   "source": [
    "#Hyperparameters\n",
    "LEARNING_RATE = 0.001\n",
    "EPOCHS = 200\n",
    "\n",
    "# Check if the GPU is available\n",
    "device = torch.device(\"mps\" if torch.backends.mps.is_available() else \"cpu\")\n",
    "\n",
    "print(device)\n",
    "\n",
    "\n",
    "model = Net()\n",
    "optimizer = torch.optim.Adam(model.parameters(), lr=LEARNING_RATE)\n",
    "criterion = nn.CrossEntropyLoss()\n",
    "\n",
    "print(model)\n"
   ]
  },
  {
   "cell_type": "code",
   "execution_count": 6,
   "metadata": {},
   "outputs": [
    {
     "name": "stdout",
     "output_type": "stream",
     "text": [
      "Requirement already satisfied: torchsummary in c:\\users\\gabri\\appdata\\local\\programs\\python\\python312\\lib\\site-packages (1.5.1)Note: you may need to restart the kernel to use updated packages.\n",
      "\n"
     ]
    }
   ],
   "source": [
    "pip install torchsummary"
   ]
  },
  {
   "cell_type": "code",
   "execution_count": 7,
   "metadata": {},
   "outputs": [
    {
     "name": "stdout",
     "output_type": "stream",
     "text": [
      "----------------------------------------------------------------\n",
      "        Layer (type)               Output Shape         Param #\n",
      "================================================================\n",
      "            Conv2d-1            [-1, 8, 32, 32]              80\n",
      "            Conv2d-2           [-1, 16, 32, 32]           1,168\n",
      "         MaxPool2d-3           [-1, 16, 16, 16]               0\n",
      "            Conv2d-4           [-1, 32, 16, 16]           4,640\n",
      "            Conv2d-5           [-1, 32, 16, 16]           9,248\n",
      "         MaxPool2d-6             [-1, 32, 8, 8]               0\n",
      "            Conv2d-7             [-1, 64, 8, 8]          18,496\n",
      "            Conv2d-8             [-1, 64, 8, 8]          36,928\n",
      "         MaxPool2d-9             [-1, 64, 4, 4]               0\n",
      "           Linear-10                  [-1, 500]         512,500\n",
      "          Dropout-11                  [-1, 500]               0\n",
      "           Linear-12                  [-1, 256]         128,256\n",
      "          Dropout-13                  [-1, 256]               0\n",
      "           Linear-14                  [-1, 128]          32,896\n",
      "          Dropout-15                  [-1, 128]               0\n",
      "           Linear-16                   [-1, 64]           8,256\n",
      "          Dropout-17                   [-1, 64]               0\n",
      "           Linear-18                    [-1, 6]             390\n",
      "================================================================\n",
      "Total params: 752,858\n",
      "Trainable params: 752,858\n",
      "Non-trainable params: 0\n",
      "----------------------------------------------------------------\n",
      "Input size (MB): 0.00\n",
      "Forward/backward pass size (MB): 0.44\n",
      "Params size (MB): 2.87\n",
      "Estimated Total Size (MB): 3.32\n",
      "----------------------------------------------------------------\n"
     ]
    }
   ],
   "source": [
    "from torchsummary import summary\n",
    "\n",
    "summary(model, (1, 32, 32)) # (channels, height, width of input image)"
   ]
  },
  {
   "cell_type": "code",
   "execution_count": 8,
   "metadata": {},
   "outputs": [],
   "source": [
    "def train(model, train_loader, optimizer, criterion, n_epochs=None):\n",
    "    model.train()\n",
    "    losses = []\n",
    "    for epoch in range(n_epochs):  # loop over the dataset multiple times\n",
    "\n",
    "        running_loss = 0.0\n",
    "        for i, data in enumerate(train_loader, 0):\n",
    "        #get the inputs; data is a list of [inputs, labels]\n",
    "            inputs, labels = data[0].to(device), data[1].to(device)\n",
    "            # zero the parameter gradients\n",
    "            optimizer.zero_grad()\n",
    "\n",
    "            # forward + backward + optimize\n",
    "            outputs = model(inputs)\n",
    "            loss = criterion(outputs, labels)\n",
    "            loss.backward()\n",
    "            optimizer.step()\n",
    "\n",
    "            # print statistics\n",
    "            loss_value = loss.item()\n",
    "            losses.append(loss_value)\n",
    "            running_loss += loss.item()\n",
    "            if i % 200 == 199:    # print every 200 mini-batches\n",
    "                print('[%d, %5d] loss: %.3f' %(epoch + 1, i + 1, running_loss / 2000))\n",
    "                running_loss = 0.0\n",
    "\n",
    "    print('Finished Training')\n",
    "    return losses\n"
   ]
  },
  {
   "cell_type": "code",
   "execution_count": 9,
   "metadata": {},
   "outputs": [
    {
     "name": "stdout",
     "output_type": "stream",
     "text": [
      "Finished Training\n"
     ]
    },
    {
     "data": {
      "image/png": "[encoded data removed]",
      "text/plain": [
       "<Figure size 1500x500 with 1 Axes>"
      ]
     },
     "metadata": {},
     "output_type": "display_data"
    }
   ],
   "source": [
    "losses = train(model=model, train_loader=train_loader, optimizer=optimizer, criterion=criterion, n_epochs=EPOCHS)\n",
    "\n",
    "plt.figure(figsize=(15, 5))\n",
    "plt.plot(losses, lw=2,color='blue')\n",
    "plt.xlabel('Epoch')\n",
    "plt.ylabel('MSE Loss')\n",
    "plt.title('Training Loss')\n",
    "plt.show()\n",
    "\n",
    "# Save the trained model\n",
    "PATH = './model.pth'\n",
    "torch.save(model.state_dict(), PATH)"
   ]
  },
  {
   "cell_type": "code",
   "execution_count": 10,
   "metadata": {},
   "outputs": [
    {
     "name": "stderr",
     "output_type": "stream",
     "text": [
      "C:\\Users\\gabri\\AppData\\Local\\Temp\\ipykernel_5660\\210957378.py:1: FutureWarning: You are using `torch.load` with `weights_only=False` (the current default value), which uses the default pickle module implicitly. It is possible to construct malicious pickle data which will execute arbitrary code during unpickling (See https://github.com/pytorch/pytorch/blob/main/SECURITY.md#untrusted-models for more details). In a future release, the default value for `weights_only` will be flipped to `True`. This limits the functions that could be executed during unpickling. Arbitrary objects will no longer be allowed to be loaded via this mode unless they are explicitly allowlisted by the user via `torch.serialization.add_safe_globals`. We recommend you start setting `weights_only=True` for any use case where you don't have full control of the loaded file. Please open an issue on GitHub for any issues related to this experimental feature.\n",
      "  model.load_state_dict(torch.load('model.pth'))\n",
      "Clipping input data to the valid range for imshow with RGB data ([0..1] for floats or [0..255] for integers). Got range [0.08058816..1.0000004].\n"
     ]
    },
    {
     "data": {
      "image/png": "[encoded data removed]",
      "text/plain": [
       "<Figure size 640x480 with 1 Axes>"
      ]
     },
     "metadata": {},
     "output_type": "display_data"
    }
   ],
   "source": [
    "model.load_state_dict(torch.load('model.pth'))\n",
    "\n",
    "# Check the testset\n",
    "dataiter = iter(test_loader)\n",
    "images, labels = next(dataiter)\n",
    "images = images.to(device)\n",
    "labels = labels.to(device)\n",
    "\n",
    "# print images\n",
    "imshow(torchvision.utils.make_grid(images.cpu()))\n"
   ]
  },
  {
   "cell_type": "code",
   "execution_count": 11,
   "metadata": {},
   "outputs": [],
   "source": [
    "def test_accuracy(model, test_loader, device='cpu'):\n",
    "    \"\"\"\n",
    "    Calculate and return the accuracy of the model on the test set.\n",
    "\n",
    "    Parameters:\n",
    "    - model: The trained PyTorch model\n",
    "    - test_loader: DataLoader for the test dataset\n",
    "    - device: The device ('cpu' or 'cuda') on which the model and data reside\n",
    "\n",
    "    Returns:\n",
    "    - accuracy: Overall accuracy of the model on the test set (in percentage)\n",
    "    \"\"\"\n",
    "    correct = 0\n",
    "    total = 0\n",
    "    model.eval()  # Set the model to evaluation mode\n",
    "\n",
    "    with torch.no_grad():  # Disable gradient computation\n",
    "        for data in test_loader:\n",
    "            images, labels = data[0].to(device), data[1].to(device)\n",
    "            outputs = model(images)\n",
    "            _, predicted = torch.max(outputs.data, 1)\n",
    "            total += labels.size(0)\n",
    "            correct += (predicted == labels).sum().item()\n",
    "\n",
    "    # Compute overall accuracy\n",
    "    accuracy = 100 * correct / total\n",
    "    print(f'Accuracy of the network on the test images: {accuracy:.2f} %')\n",
    "    return accuracy\n"
   ]
  },
  {
   "cell_type": "code",
   "execution_count": 12,
   "metadata": {},
   "outputs": [
    {
     "name": "stdout",
     "output_type": "stream",
     "text": [
      "Accuracy of the network on the test images: 0.00 %\n"
     ]
    }
   ],
   "source": [
    "# Calculate the overall accuracy\n",
    "overall_accuracy = test_accuracy(model, test_loader, device=device)\n"
   ]
  },
  {
   "cell_type": "code",
   "execution_count": 13,
   "metadata": {},
   "outputs": [],
   "source": [
    "def accuracy(model, test_loader, classes, device='cpu'):\n",
    "    \"\"\"\n",
    "    Calculate and print the accuracy for each class.\n",
    "\n",
    "    Parameters:\n",
    "    - model: The trained PyTorch model\n",
    "    - test_loader: DataLoader for the test dataset\n",
    "    - classes: List of class names\n",
    "    - device: The device ('cpu' or 'cuda') on which the model and data reside\n",
    "\n",
    "    Returns:\n",
    "    - class_accuracies: A dictionary with class names as keys and accuracy percentages as values\n",
    "    \"\"\"\n",
    "    # Switch the model to evaluation mode\n",
    "    model.eval()\n",
    "\n",
    "    # Initialize variables for correct and total counts per class\n",
    "    class_correct = list(0. for _ in range(len(classes)))\n",
    "    class_total = list(0. for _ in range(len(classes)))\n",
    "\n",
    "    with torch.no_grad():\n",
    "        for data in test_loader:\n",
    "            images, labels = data[0].to(device), data[1].to(device)\n",
    "            outputs = model(images)\n",
    "            _, predicted = torch.max(outputs, 1)\n",
    "            c = (predicted == labels)\n",
    "            for i in range(len(labels)):\n",
    "                label = labels[i].item()\n",
    "                class_correct[label] += c[i].item()\n",
    "                class_total[label] += 1\n",
    "\n",
    "    # Compute and print accuracy for each class\n",
    "    class_accuracies = {}\n",
    "    for i in range(len(classes)):\n",
    "        if class_total[i] > 0:  # Check to avoid division by zero\n",
    "            accuracy = 100 * class_correct[i] / class_total[i]\n",
    "            print(f'Accuracy of {classes[i]} : {accuracy:.2f} %')\n",
    "            class_accuracies[classes[i]] = accuracy\n",
    "        else:\n",
    "            print(f'Accuracy of {classes[i]} : No samples available')\n",
    "            class_accuracies[classes[i]] = None\n",
    "\n",
    "    return class_accuracies\n"
   ]
  },
  {
   "cell_type": "code",
   "execution_count": 14,
   "metadata": {},
   "outputs": [
    {
     "name": "stdout",
     "output_type": "stream",
     "text": [
      "Accuracy of checazzo : No samples available\n",
      "Accuracy of peace : 0.00 %\n",
      "Accuracy of thumbup : No samples available\n",
      "Accuracy of ok : No samples available\n",
      "Accuracy of flat : No samples available\n",
      "Accuracy of nohandgesture : 0.00 %\n"
     ]
    }
   ],
   "source": [
    "# Call the accuracy function\n",
    "class_accuracies = accuracy(model, test_loader, classes, device=device)\n"
   ]
  },
  {
   "cell_type": "markdown",
   "metadata": {},
   "source": [
    "## Evaluation"
   ]
  },
  {
   "cell_type": "code",
   "execution_count": 15,
   "metadata": {},
   "outputs": [],
   "source": [
    "from sklearn.metrics import f1_score\n",
    "\n",
    "def calculate_f1_score(y_true, y_pred, average='weighted'):\n",
    "    \"\"\"\n",
    "    Calculate the F1 score for a classification problem.\n",
    "\n",
    "    Parameters:\n",
    "    - y_true: List or array of true class labels\n",
    "    - y_pred: List or array of predicted class labels\n",
    "    - average: The averaging method ('micro', 'macro', or 'weighted')\n",
    "\n",
    "    Returns:\n",
    "    - f1: F1 score (float)\n",
    "    \"\"\"\n",
    "    f1 = f1_score(y_true, y_pred, average=average)\n",
    "    print(f\"F1 Score ({average}): {f1:.2f}\")\n",
    "    return f1\n"
   ]
  },
  {
   "cell_type": "code",
   "execution_count": 16,
   "metadata": {},
   "outputs": [],
   "source": [
    "import torch\n",
    "import numpy as np\n",
    "from sklearn.metrics import confusion_matrix\n",
    "import matplotlib.pyplot as plt\n",
    "import seaborn as sns\n",
    "\n",
    "# Function to evaluate and visualize results\n",
    "def evaluate_model(model, test_loader, label_map, device='cpu',average='weighted'):\n",
    "    \"\"\"\n",
    "    Evaluate the model on a test set and visualize the results.\n",
    "\n",
    "    Parameters:\n",
    "    - model: The trained PyTorch model\n",
    "    - test_loader: DataLoader for the test dataset\n",
    "    - label_map: Dictionary mapping class indices to class names\n",
    "    - device: The device ('cpu' or 'cuda') on which the model and data reside\n",
    "\n",
    "    Returns:\n",
    "    - accuracy: Overall accuracy of the model on the test set (in percentage)\n",
    "    - conf_matrix: Confusion matrix of the test set predictions\n",
    "    \"\"\"\n",
    "    model.eval()  # Set the model to evaluation mode\n",
    "\n",
    "    all_preds = []\n",
    "    all_labels = []\n",
    "\n",
    "    with torch.no_grad():\n",
    "        for data in test_loader:\n",
    "            images, labels = data[0].to(device), data[1].to(device)\n",
    "            outputs = model(images)\n",
    "            _, predicted = torch.max(outputs, 1)\n",
    "            all_preds.extend(predicted.cpu().numpy())  # Collect predictions\n",
    "            all_labels.extend(labels.cpu().numpy())  # Collect true labels\n",
    "\n",
    "    # Compute accuracy\n",
    "    correct = sum(p == l for p, l in zip(all_preds, all_labels))\n",
    "    total = len(all_labels)\n",
    "    accuracy = 100 * correct / total\n",
    "\n",
    "    #Compute F1 score\n",
    "    f1 = calculate_f1_score(all_labels, all_preds, average=average)\n",
    "\n",
    "    # Compute confusion matrix\n",
    "    conf_matrix = confusion_matrix(all_labels, all_preds)\n",
    "\n",
    "    # Print accuracy\n",
    "    print(f\"Accuracy of the network on the test set: {accuracy:.2f}%\")\n",
    "\n",
    "    # Visualize confusion matrix\n",
    "    sns.heatmap(conf_matrix, annot=True, cmap=\"Blues\", \n",
    "                xticklabels=label_map.values(), \n",
    "                yticklabels=label_map.values())\n",
    "    plt.xlabel(\"Predicted\")\n",
    "    plt.ylabel(\"Actual\")\n",
    "    plt.title(\"Confusion Matrix\")\n",
    "    plt.show()\n",
    "\n",
    "    return accuracy, conf_matrix, f1\n"
   ]
  },
  {
   "cell_type": "code",
   "execution_count": 17,
   "metadata": {},
   "outputs": [
    {
     "name": "stdout",
     "output_type": "stream",
     "text": [
      "F1 Score (weighted): 0.00\n",
      "Accuracy of the network on the test set: 0.00%\n"
     ]
    },
    {
     "data": {
      "image/png": "[encoded data removed]",
      "text/plain": [
       "<Figure size 640x480 with 2 Axes>"
      ]
     },
     "metadata": {},
     "output_type": "display_data"
    }
   ],
   "source": [
    "# Define the label map\n",
    "label_map = {i: class_name for i, class_name in enumerate(classes)}\n",
    "\n",
    "# Evaluate the model\n",
    "overall_accuracy, confusion_mat, f1 = evaluate_model(model, test_loader, label_map, device=device,average='weighted')\n"
   ]
  },
  {
   "cell_type": "markdown",
   "metadata": {},
   "source": []
  },
  {
   "cell_type": "markdown",
   "metadata": {},
   "source": [
    "# Train CNN with augmented data"
   ]
  },
  {
   "cell_type": "markdown",
   "metadata": {},
   "source": [
    "# Evaluate Model"
   ]
  },
  {
   "cell_type": "markdown",
   "metadata": {},
   "source": []
  }
 ],
 "metadata": {
  "kernelspec": {
   "display_name": "Python 3",
   "language": "python",
   "name": "python3"
  },
  "language_info": {
   "codemirror_mode": {
    "name": "ipython",
    "version": 3
   },
   "file_extension": ".py",
   "mimetype": "text/x-python",
   "name": "python",
   "nbconvert_exporter": "python",
   "pygments_lexer": "ipython3",
   "version": "3.12.3"
  }
 },
 "nbformat": 4,
 "nbformat_minor": 2
}
