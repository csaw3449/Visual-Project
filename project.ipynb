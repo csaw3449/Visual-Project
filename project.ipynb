{
 "cells": [
  {
   "cell_type": "markdown",
   "metadata": {},
   "source": [
    "# Initialize functions"
   ]
  },
  {
   "cell_type": "code",
   "execution_count": 1,
   "metadata": {},
   "outputs": [],
   "source": [
    "import os\n",
    "import pandas as pd\n",
    "import torchvision\n",
    "import torch\n",
    "from torchvision import transforms\n",
    "\n",
    "import torchvision.transforms as transforms\n",
    "from torch.utils.data import DataLoader, random_split\n",
    "from torch.utils.data import Dataset\n",
    "from torchvision.io import read_image\n",
    "import numpy as np\n",
    "import matplotlib.pyplot as plt\n",
    "import numpy as np\n",
    "from torchvision.utils import make_grid\n",
    "from PIL import Image\n",
    "\n",
    "\n",
    "\n",
    "class CustomImageDataset(Dataset):\n",
    "    def __init__(self, root_dir,csv_file, transform=None):\n",
    "        self.annotations = pd.read_csv(csv_file)\n",
    "        self.root_dir = root_dir\n",
    "        self.transform = transform\n",
    "        self.class_to_idx = {cls: idx for idx, cls in enumerate(\n",
    "            ['checazzo', 'peace', 'thumbup', 'ok', 'flat', 'nogesture'])}\n",
    "\n",
    "    def __len__(self):\n",
    "        return len(self.annotations)\n",
    "\n",
    "    def __getitem__(self, idx):\n",
    "        img_path = os.path.join(self.root_dir, self.annotations.iloc[idx, 0])\n",
    "        image = Image.open(img_path)\n",
    "        image = image.convert(\"RGB\")\n",
    "\n",
    "\n",
    "        label = self.annotations.iloc[idx, 1]\n",
    "        label = self.class_to_idx[label]  # Convert string label to integer\n",
    "        print(label)\n",
    "        #sample = {'image': image, 'label': label}\n",
    "\n",
    "        if self.transform:\n",
    "            #sample['image'] = self.transform(sample['image'])\n",
    "            image = self.transform(image)\n",
    "        \n",
    "        return image, label"
   ]
  },
  {
   "cell_type": "code",
   "execution_count": 2,
   "metadata": {},
   "outputs": [
    {
     "name": "stdout",
     "output_type": "stream",
     "text": [
      "Current directory: c:\\Visual Computing\\Project\n"
     ]
    }
   ],
   "source": [
    "current_dir = os.getcwd()\n",
    "print(f\"Current directory: {current_dir}\")\n",
    "\n",
    "\n",
    "classes = ('checazzo', 'peace', 'thumbup', 'ok', 'flat', 'nogesture')\n",
    "\n",
    "# Set up transformations\n",
    "transform = transforms.Compose([\n",
    "    transforms.Grayscale(num_output_channels=1),  # Ensure grayscale conversion to single channel\n",
    "    transforms.ToTensor(),  # Converts to tensor of shape [1, H, W]\n",
    "    transforms.Resize((32, 32))  # Resize the image to 32x32\n",
    "])\n",
    "\n",
    "# Create dataset\n",
    "dataset = CustomImageDataset(csv_file='images.csv', root_dir=os.getcwd(), transform=transform)\n",
    "\n",
    "# Split dataset into 80% train and 20% test\n",
    "train_size = int(0.8 * len(dataset))\n",
    "test_size = len(dataset) - train_size\n",
    "train_set, test_set = random_split(dataset, [train_size, test_size])\n",
    "\n",
    "# Create DataLoaders\n",
    "train_loader = DataLoader(train_set, batch_size=4, shuffle=True)\n",
    "test_loader = DataLoader(test_set, batch_size=4, shuffle=False)\n"
   ]
  },
  {
   "cell_type": "code",
   "execution_count": 3,
   "metadata": {},
   "outputs": [
    {
     "name": "stderr",
     "output_type": "stream",
     "text": [
      "Clipping input data to the valid range for imshow with RGB data ([0..1] for floats or [0..255] for integers). Got range [0.5..1.0000002].\n"
     ]
    },
    {
     "name": "stdout",
     "output_type": "stream",
     "text": [
      "1\n",
      "2\n",
      "3\n",
      "0\n"
     ]
    },
    {
     "data": {
      "image/png": "[encoded data removed]",
      "text/plain": [
       "<Figure size 640x480 with 1 Axes>"
      ]
     },
     "metadata": {},
     "output_type": "display_data"
    }
   ],
   "source": [
    "# Function to show images\n",
    "def imshow(img):\n",
    "    img = img / 2 + 0.5     # unnormalize\n",
    "    npimg = img.numpy()\n",
    "    plt.imshow(np.transpose(npimg, (1, 2, 0)), cmap='gray')  # Specify gray colormap for grayscale\n",
    "    plt.show()\n",
    "\n",
    "# Get some random training images\n",
    "dataset_iter = iter(train_loader)\n",
    "images, labels = next(dataset_iter)\n",
    "\n",
    "# Show images\n",
    "imshow(make_grid(images))  # Display grid of images"
   ]
  },
  {
   "cell_type": "markdown",
   "metadata": {},
   "source": [
    "## CNN"
   ]
  },
  {
   "cell_type": "code",
   "execution_count": 4,
   "metadata": {},
   "outputs": [],
   "source": [
    "import torch\n",
    "import torch.nn as nn\n",
    "import torch.nn.functional as F\n",
    "\n",
    "##CNN Architecture\n",
    "\n",
    "#Generally the CNN output size can be calculated as follows (for an image with same height and width dimensions):\n",
    "#output_size = (input_size - kernel_size + 2*padding) / stride + 1\n",
    "\n",
    "#Since we transform each image to grayscale we have 1 input channel.\n",
    "# Also we use padding, because the most relevant informations lie in the center of the images.csv\n",
    "\n",
    "#input size of each image: 32x32\n",
    "\n",
    "class Net(nn.Module):\n",
    "    def __init__(self):\n",
    "        super(Net, self).__init__()\n",
    "        # Convolutional layers\n",
    "        self.conv1 = nn.Conv2d(in_channels=1, out_channels=8, kernel_size=3, padding=1) \n",
    "        self.conv2 = nn.Conv2d(in_channels=8, out_channels=16, kernel_size=3, padding=1) \n",
    "        self.conv3 = nn.Conv2d(in_channels=16, out_channels=32, kernel_size=3, padding=1) \n",
    "        self.conv4 = nn.Conv2d(in_channels=32, out_channels=32, kernel_size=3, padding=1)\n",
    "        self.conv5 = nn.Conv2d(in_channels=32, out_channels=64, kernel_size=3, padding=1)\n",
    "        self.conv6 = nn.Conv2d(in_channels=64, out_channels=64, kernel_size=3, padding=1)\n",
    "\n",
    "        # Pooling layer for downsampling\n",
    "        self.pool = nn.MaxPool2d(kernel_size=2, stride=2)\n",
    "\n",
    "        # Dropout layers for regularization\n",
    "        self.dropout = nn.Dropout(0.5)\n",
    "\n",
    "\n",
    "        # Fully connected layers\n",
    "        self.fc1 = nn.Linear(64*4*4, 500)\n",
    "        self.fc2 = nn.Linear(500, 256)\n",
    "        self.fc3 = nn.Linear(256, 128)\n",
    "        self.fc4 = nn.Linear(128, 64)\n",
    "        self.fc5 = nn.Linear(64, 6) #6 output classes 5 gestures and 1 for no gesture\n",
    "\n",
    "    def forward(self, x):\n",
    "        x = F.relu(self.conv1(x)) # output size = 32x32\n",
    "        x = self.pool(F.relu(self.conv2(x))) # output size = 16x16\n",
    "\n",
    "        x = F.relu(self.conv3(x)) #output size = 16x16\n",
    "        x = self.pool(F.relu(self.conv4(x))) # output size = 8x8\n",
    "\n",
    "        x = F.relu(self.conv5(x)) #output size = 8x8\n",
    "        x = self.pool(F.relu(self.conv6(x))) # output size = 4x4\n",
    "\n",
    "        x = x.view(-1, 64 * 4 * 4)\n",
    "        x = self.dropout(F.relu(self.fc1(x)))\n",
    "        x = self.dropout(F.relu(self.fc2(x)))\n",
    "        x = self.dropout(F.relu(self.fc3(x)))\n",
    "        x = self.dropout(F.relu(self.fc4(x)))\n",
    "        x = self.fc5(x) #no activation function because we use CrossEntropyLoss\n",
    "\n",
    "        return x"
   ]
  },
  {
   "cell_type": "code",
   "execution_count": 5,
   "metadata": {},
   "outputs": [
    {
     "name": "stdout",
     "output_type": "stream",
     "text": [
      "cpu\n",
      "Net(\n",
      "  (conv1): Conv2d(1, 8, kernel_size=(3, 3), stride=(1, 1), padding=(1, 1))\n",
      "  (conv2): Conv2d(8, 16, kernel_size=(3, 3), stride=(1, 1), padding=(1, 1))\n",
      "  (conv3): Conv2d(16, 32, kernel_size=(3, 3), stride=(1, 1), padding=(1, 1))\n",
      "  (conv4): Conv2d(32, 32, kernel_size=(3, 3), stride=(1, 1), padding=(1, 1))\n",
      "  (conv5): Conv2d(32, 64, kernel_size=(3, 3), stride=(1, 1), padding=(1, 1))\n",
      "  (conv6): Conv2d(64, 64, kernel_size=(3, 3), stride=(1, 1), padding=(1, 1))\n",
      "  (pool): MaxPool2d(kernel_size=2, stride=2, padding=0, dilation=1, ceil_mode=False)\n",
      "  (dropout): Dropout(p=0.5, inplace=False)\n",
      "  (fc1): Linear(in_features=1024, out_features=500, bias=True)\n",
      "  (fc2): Linear(in_features=500, out_features=256, bias=True)\n",
      "  (fc3): Linear(in_features=256, out_features=128, bias=True)\n",
      "  (fc4): Linear(in_features=128, out_features=64, bias=True)\n",
      "  (fc5): Linear(in_features=64, out_features=6, bias=True)\n",
      ")\n"
     ]
    }
   ],
   "source": [
    "#Hyperparameters\n",
    "LEARNING_RATE = 0.001\n",
    "EPOCHS = 30\n",
    "\n",
    "# Check if the GPU is available\n",
    "device = torch.device(\"mps\" if torch.backends.mps.is_available() else \"cpu\")\n",
    "#device = torch.device(\"cuda\" if torch.cuda.is_available() else \"mps\")\n",
    "#device = torch.device('cpu')\n",
    "#torch.set_default_device(\"mps\")\n",
    "print(device)\n",
    "\n",
    "\n",
    "model = Net()\n",
    "optimizer = torch.optim.Adam(model.parameters(), lr=LEARNING_RATE)\n",
    "criterion = nn.CrossEntropyLoss()\n",
    "\n",
    "print(model)\n"
   ]
  },
  {
   "cell_type": "code",
   "execution_count": 6,
   "metadata": {},
   "outputs": [
    {
     "name": "stdout",
     "output_type": "stream",
     "text": [
      "Requirement already satisfied: torchsummary in c:\\users\\gabri\\appdata\\local\\programs\\python\\python312\\lib\\site-packages (1.5.1)\n",
      "Note: you may need to restart the kernel to use updated packages.\n"
     ]
    }
   ],
   "source": [
    "pip install torchsummary"
   ]
  },
  {
   "cell_type": "code",
   "execution_count": 7,
   "metadata": {},
   "outputs": [
    {
     "name": "stdout",
     "output_type": "stream",
     "text": [
      "----------------------------------------------------------------\n",
      "        Layer (type)               Output Shape         Param #\n",
      "================================================================\n",
      "            Conv2d-1            [-1, 8, 32, 32]              80\n",
      "            Conv2d-2           [-1, 16, 32, 32]           1,168\n",
      "         MaxPool2d-3           [-1, 16, 16, 16]               0\n",
      "            Conv2d-4           [-1, 32, 16, 16]           4,640\n",
      "            Conv2d-5           [-1, 32, 16, 16]           9,248\n",
      "         MaxPool2d-6             [-1, 32, 8, 8]               0\n",
      "            Conv2d-7             [-1, 64, 8, 8]          18,496\n",
      "            Conv2d-8             [-1, 64, 8, 8]          36,928\n",
      "         MaxPool2d-9             [-1, 64, 4, 4]               0\n",
      "           Linear-10                  [-1, 500]         512,500\n",
      "          Dropout-11                  [-1, 500]               0\n",
      "           Linear-12                  [-1, 256]         128,256\n",
      "          Dropout-13                  [-1, 256]               0\n",
      "           Linear-14                  [-1, 128]          32,896\n",
      "          Dropout-15                  [-1, 128]               0\n",
      "           Linear-16                   [-1, 64]           8,256\n",
      "          Dropout-17                   [-1, 64]               0\n",
      "           Linear-18                    [-1, 6]             390\n",
      "================================================================\n",
      "Total params: 752,858\n",
      "Trainable params: 752,858\n",
      "Non-trainable params: 0\n",
      "----------------------------------------------------------------\n",
      "Input size (MB): 0.00\n",
      "Forward/backward pass size (MB): 0.44\n",
      "Params size (MB): 2.87\n",
      "Estimated Total Size (MB): 3.32\n",
      "----------------------------------------------------------------\n"
     ]
    }
   ],
   "source": [
    "from torchsummary import summary\n",
    "\n",
    "summary(model, (1, 32, 32)) # (channels, height, width of input image)"
   ]
  },
  {
   "cell_type": "code",
   "execution_count": 8,
   "metadata": {},
   "outputs": [],
   "source": [
    "def train(model, train_loader, optimizer, criterion, n_epochs=None):\n",
    "    model.train()\n",
    "    losses = []\n",
    "    for epoch in range(n_epochs):  # loop over the dataset multiple times\n",
    "\n",
    "        running_loss = 0.0\n",
    "        for i, data in enumerate(train_loader, 0):\n",
    "        #get the inputs; data is a list of [inputs, labels]\n",
    "            inputs, labels = data[0], data[1]\n",
    "            # zero the parameter gradients\n",
    "            optimizer.zero_grad()\n",
    "\n",
    "            # forward + backward + optimize\n",
    "            outputs = model(inputs)\n",
    "            loss = criterion(outputs, labels)\n",
    "            loss.backward()\n",
    "            optimizer.step()\n",
    "\n",
    "            # print statistics\n",
    "            loss_value = loss.item()\n",
    "            losses.append(loss_value)\n",
    "            running_loss += loss.item()\n",
    "            if i % 200 == 199:    # print every 200 mini-batches\n",
    "                print('[%d, %5d] loss: %.3f' %(epoch + 1, i + 1, running_loss / 2000))\n",
    "                running_loss = 0.0\n",
    "\n",
    "    print('Finished Training')\n",
    "    return losses\n"
   ]
  },
  {
   "cell_type": "code",
   "execution_count": 9,
   "metadata": {},
   "outputs": [
    {
     "name": "stdout",
     "output_type": "stream",
     "text": [
      "3\n",
      "0\n",
      "2\n",
      "1\n",
      "0\n",
      "1\n",
      "3\n",
      "2\n",
      "0\n",
      "1\n",
      "3\n",
      "2\n",
      "0\n",
      "2\n",
      "1\n",
      "3\n",
      "1\n",
      "3\n",
      "0\n",
      "2\n",
      "1\n",
      "3\n",
      "2\n",
      "0\n",
      "3\n",
      "0\n",
      "1\n",
      "2\n",
      "2\n",
      "3\n",
      "0\n",
      "1\n",
      "1\n",
      "2\n",
      "3\n",
      "0\n",
      "1\n",
      "3\n",
      "0\n",
      "2\n",
      "2\n",
      "0\n",
      "1\n",
      "3\n",
      "0\n",
      "3\n",
      "1\n",
      "2\n",
      "1\n",
      "2\n",
      "0\n",
      "3\n",
      "0\n",
      "2\n",
      "1\n",
      "3\n",
      "2\n",
      "3\n",
      "1\n",
      "0\n",
      "3\n",
      "1\n",
      "0\n",
      "2\n",
      "0\n",
      "2\n",
      "1\n",
      "3\n",
      "1\n",
      "3\n",
      "2\n",
      "0\n",
      "1\n",
      "3\n",
      "2\n",
      "0\n",
      "3\n",
      "2\n",
      "0\n",
      "1\n",
      "1\n",
      "0\n",
      "2\n",
      "3\n",
      "1\n",
      "3\n",
      "0\n",
      "2\n",
      "3\n",
      "0\n",
      "2\n",
      "1\n",
      "1\n",
      "0\n",
      "3\n",
      "2\n",
      "1\n",
      "3\n",
      "0\n",
      "2\n",
      "0\n",
      "2\n",
      "3\n",
      "1\n",
      "1\n",
      "3\n",
      "0\n",
      "2\n",
      "1\n",
      "2\n",
      "0\n",
      "3\n",
      "0\n",
      "2\n",
      "1\n",
      "3\n",
      "0\n",
      "1\n",
      "2\n",
      "3\n",
      "Finished Training\n"
     ]
    },
    {
     "data": {
      "image/png": "[encoded data removed]",
      "text/plain": [
       "<Figure size 1500x500 with 1 Axes>"
      ]
     },
     "metadata": {},
     "output_type": "display_data"
    }
   ],
   "source": [
    "losses = train(model=model, train_loader=train_loader, optimizer=optimizer, criterion=criterion, n_epochs=EPOCHS)\n",
    "\n",
    "plt.figure(figsize=(15, 5))\n",
    "plt.plot(losses, lw=2,color='blue')\n",
    "plt.xlabel('Epoch')\n",
    "plt.ylabel('MSE Loss')\n",
    "plt.title('Training Loss')\n",
    "plt.show()\n",
    "\n",
    "# Save the trained model\n",
    "PATH = './model.pth'\n",
    "torch.save(model.state_dict(), PATH)"
   ]
  },
  {
   "cell_type": "code",
   "execution_count": 10,
   "metadata": {},
   "outputs": [
    {
     "name": "stderr",
     "output_type": "stream",
     "text": [
      "C:\\Users\\gabri\\AppData\\Local\\Temp\\ipykernel_2576\\3335116341.py:1: FutureWarning: You are using `torch.load` with `weights_only=False` (the current default value), which uses the default pickle module implicitly. It is possible to construct malicious pickle data which will execute arbitrary code during unpickling (See https://github.com/pytorch/pytorch/blob/main/SECURITY.md#untrusted-models for more details). In a future release, the default value for `weights_only` will be flipped to `True`. This limits the functions that could be executed during unpickling. Arbitrary objects will no longer be allowed to be loaded via this mode unless they are explicitly allowlisted by the user via `torch.serialization.add_safe_globals`. We recommend you start setting `weights_only=True` for any use case where you don't have full control of the loaded file. Please open an issue on GitHub for any issues related to this experimental feature.\n",
      "  model.load_state_dict(torch.load('model.pth'))\n",
      "Clipping input data to the valid range for imshow with RGB data ([0..1] for floats or [0..255] for integers). Got range [0.70050377..1.0000001].\n"
     ]
    },
    {
     "name": "stdout",
     "output_type": "stream",
     "text": [
      "4\n"
     ]
    },
    {
     "data": {
      "image/png": "[encoded data removed]",
      "text/plain": [
       "<Figure size 640x480 with 1 Axes>"
      ]
     },
     "metadata": {},
     "output_type": "display_data"
    }
   ],
   "source": [
    "model.load_state_dict(torch.load('model.pth'))\n",
    "\n",
    "# Check the testset\n",
    "\n",
    "dataiter = iter(test_loader)\n",
    "images, labels = next(dataiter)\n",
    "images = images.to(device)\n",
    "labels = labels.to(device)\n",
    "\n",
    "# print images\n",
    "imshow(torchvision.utils.make_grid(images.cpu()))\n"
   ]
  },
  {
   "cell_type": "code",
   "execution_count": 11,
   "metadata": {},
   "outputs": [
    {
     "name": "stdout",
     "output_type": "stream",
     "text": [
      "4\n",
      "tensor([[ 0.0898,  0.1684,  0.0916,  0.1530, -0.9156, -0.7850]])\n",
      "tensor([1])\n",
      "1\n",
      "0\n",
      "Accuracy of the network on the test images: 0 %\n"
     ]
    }
   ],
   "source": [
    "# Check the accuracy on the test set\n",
    "correct = 0\n",
    "total = 0\n",
    "model.eval()\n",
    "with torch.no_grad():\n",
    "    for data in test_loader:\n",
    "        images, labels = data[0].to(device), data[1].to(device)\n",
    "        outputs = model(images)\n",
    "        print(outputs)\n",
    "        _, predicted = torch.max(outputs.data, 1)\n",
    "        print(predicted)\n",
    "        total += labels.size(0)\n",
    "        print(total)\n",
    "        correct += (predicted == labels).sum().item()\n",
    "        print(correct)\n",
    "print('Accuracy of the network on the test images: %d %%' % (\n",
    "    100 * correct / total))"
   ]
  },
  {
   "cell_type": "code",
   "execution_count": 21,
   "metadata": {},
   "outputs": [
    {
     "name": "stdout",
     "output_type": "stream",
     "text": [
      "4\n",
      "[0.0, 0.0, 0.0, 0.0, 0.0, 0.0]\n",
      "[0.0, 0.0, 0.0, 0.0, 1.0, 0.0]\n",
      "Accuracy of checazzo : No samples available\n",
      "Accuracy of peace : No samples available\n",
      "Accuracy of thumbup : No samples available\n",
      "Accuracy of ok : No samples available\n",
      "Accuracy of flat : 0.00 %\n",
      "Accuracy of nogesture : No samples available\n"
     ]
    }
   ],
   "source": [
    "# Check the accuracy for each class\n",
    "\n",
    "class_correct = list(0. for i in range(6))\n",
    "class_total = list(0. for i in range(6))\n",
    "with torch.no_grad():\n",
    "    for data in test_loader:\n",
    "        images, labels = data[0].to(device), data[1].to(device)\n",
    "        outputs = model(images)\n",
    "        _, predicted = torch.max(outputs, 1)\n",
    "        c = (predicted == labels)\n",
    "        for i in range(len(labels)):\n",
    "            label = labels[i].item()\n",
    "            class_correct[label] += c[i].item()\n",
    "            class_total[label] += 1\n",
    "            print(class_correct)\n",
    "            print(class_total)\n",
    "\n",
    "\n",
    "# Print accuracy for each class\n",
    "for i in range(len(classes)):\n",
    "    if class_total[i] > 0:  # Check to avoid division by zero\n",
    "        accuracy = 100 * class_correct[i] / class_total[i]\n",
    "        print(f'Accuracy of {classes[i]} : {accuracy:.2f} %')\n",
    "    else:\n",
    "        print(f'Accuracy of {classes[i]} : No samples available')"
   ]
  },
  {
   "cell_type": "markdown",
   "metadata": {},
   "source": []
  },
  {
   "cell_type": "markdown",
   "metadata": {},
   "source": [
    "## Hand-gesture"
   ]
  },
  {
   "cell_type": "code",
   "execution_count": null,
   "metadata": {},
   "outputs": [],
   "source": [
    "#Hand-gesture recognition v1 / Dataset generation and NN-training\n",
    "\n",
    "import numpy as np\n",
    "import cv2\n",
    "import os\n",
    "from sklearn.model_selection import train_test_split\n",
    "from dataaugmentation import augment_dataset\n",
    "from evaluation import evaluate_model\n",
    "from CNN import build_model\n",
    "\n",
    "# Load dataset\n",
    "def load_dataset(data_dir, image_size=(64, 64)):\n",
    "    images, labels = [], []\n",
    "    label_map = {gesture: idx for idx, gesture in enumerate(os.listdir(data_dir))}\n",
    "    for gesture, idx in label_map.items():\n",
    "        gesture_dir = os.path.join(data_dir, gesture)\n",
    "        for img_name in os.listdir(gesture_dir):\n",
    "            if img_name.endswith('.png'):  # Ensure it's a PNG file\n",
    "                img_path = os.path.join(gesture_dir, img_name)\n",
    "                img = cv2.imread(img_path, cv2.IMREAD_GRAYSCALE)  # Convert to grayscale\n",
    "                img = cv2.resize(img, image_size) / 255.0  # Resize and normalize\n",
    "                images.append(img)\n",
    "                labels.append(idx)\n",
    "    return np.array(images), np.array(labels), label_map\n",
    "\n",
    "# Load data\n",
    "data_dir = \"dataset\"  # Update with your dataset path\n",
    "X, y, label_map = load_dataset(data_dir)\n",
    "X = X.reshape(X.shape[0], X.shape[1], X.shape[2], 1)  # Add channel for grayscale\n",
    "X_train, X_test, y_train, y_test = train_test_split(X, y, test_size=0.2, random_state=42)\n",
    "\n",
    "print(f\"Loaded {len(X)} images, {len(X_train)} for training, {len(X_test)} for testing.\")\n",
    "\n",
    "\n",
    "# Main function\n",
    "def main():\n",
    "    # Load dataset\n",
    "    data_dir = \"dataset\"  # Update this path with your dataset location\n",
    "    X, y, label_map = load_dataset(data_dir)\n",
    "    print(f\"Dataset loaded with {len(X)} images.\")\n",
    "    \n",
    "    # Split dataset\n",
    "    X_train, X_test, y_train, y_test = train_test_split(X, y, test_size=0.2, random_state=42)\n",
    "    \n",
    "    # Data augmentation\n",
    "    X_train_aug, y_train_aug = augment_dataset(X_train, y_train)\n",
    "    print(f\"Dataset augmented: {len(X_train_aug)} training samples.\")\n",
    "    \n",
    "    # Build and train model\n",
    "    model = build_model(input_shape=X_train_aug.shape[1:], num_classes=len(label_map))\n",
    "    model.fit(X_train_aug, y_train_aug, epochs=10, validation_data=(X_test, y_test))\n",
    "    \n",
    "    # Evaluate model\n",
    "    evaluate_model(model, X_test, y_test, label_map)\n",
    "\n",
    "# Entry point\n",
    "if __name__ == \"__main__\":\n",
    "    main()"
   ]
  },
  {
   "cell_type": "markdown",
   "metadata": {},
   "source": [
    "## Evaluation"
   ]
  },
  {
   "cell_type": "code",
   "execution_count": null,
   "metadata": {},
   "outputs": [],
   "source": [
    "import numpy as np\n",
    "from sklearn.metrics import accuracy_score, confusion_matrix\n",
    "import matplotlib.pyplot as plt\n",
    "import seaborn as sns\n",
    "\n",
    "# Function to evaluate and visualize results\n",
    "def evaluate_model(model, X_test, y_test, label_map):\n",
    "    y_pred = np.argmax(model.predict(X_test), axis=1)\n",
    "    accuracy = accuracy_score(y_test, y_pred)\n",
    "    conf_matrix = confusion_matrix(y_test, y_pred)\n",
    "    \n",
    "    print(f\"Accuracy: {accuracy}\")\n",
    "    sns.heatmap(conf_matrix, annot=True, cmap=\"Blues\", xticklabels=label_map.keys(), yticklabels=label_map.keys())\n",
    "    plt.xlabel(\"Predicted\")\n",
    "    plt.ylabel(\"Actual\")\n",
    "    plt.show()"
   ]
  },
  {
   "cell_type": "markdown",
   "metadata": {},
   "source": []
  },
  {
   "cell_type": "markdown",
   "metadata": {},
   "source": [
    "# Train CNN with augmented data"
   ]
  },
  {
   "cell_type": "markdown",
   "metadata": {},
   "source": [
    "# Evaluate Model"
   ]
  },
  {
   "cell_type": "markdown",
   "metadata": {},
   "source": []
  }
 ],
 "metadata": {
  "kernelspec": {
   "display_name": "Python 3",
   "language": "python",
   "name": "python3"
  },
  "language_info": {
   "codemirror_mode": {
    "name": "ipython",
    "version": 3
   },
   "file_extension": ".py",
   "mimetype": "text/x-python",
   "name": "python",
   "nbconvert_exporter": "python",
   "pygments_lexer": "ipython3",
   "version": "3.12.3"
  }
 },
 "nbformat": 4,
 "nbformat_minor": 2
}
